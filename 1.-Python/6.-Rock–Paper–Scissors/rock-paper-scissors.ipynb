{
 "cells": [
  {
   "cell_type": "markdown",
   "metadata": {},
   "source": [
    "<img src=\"https://bit.ly/2VnXWr2\" width=\"100\" align=\"left\">"
   ]
  },
  {
   "cell_type": "markdown",
   "metadata": {},
   "source": [
    "# Rock, Paper & Scissors\n",
    "\n",
    "Let's play the famous game against our computer. You can check the rules [here](https://en.wikipedia.org/wiki/Rock%E2%80%93paper%E2%80%93scissors). \n",
    "\n",
    "## Task\n",
    "Create a program that imitates the playability of the well known game of rock, paper, scissors. Follow the guidelines provided.\n",
    "\n",
    "## Tools\n",
    "1. Loop: **for/while**\n",
    "2. Functions: **input(), print()...**\n",
    "3. Conditional statements: **if, elif, else**\n",
    "4. Definition of functions. Modular programming\n",
    "5. Import modules\n",
    "\n",
    "**To solve this challenge, the use of functions is recommended.**\n",
    "\n",
    "#### 1. Import the choice function of the random module."
   ]
  },
  {
   "cell_type": "code",
   "execution_count": 1,
   "metadata": {},
   "outputs": [
    {
     "data": {
      "text/plain": [
       "0.29599671638251934"
      ]
     },
     "execution_count": 1,
     "metadata": {},
     "output_type": "execute_result"
    }
   ],
   "source": [
    "import random\n",
    "random.random()"
   ]
  },
  {
   "cell_type": "markdown",
   "metadata": {},
   "source": [
    "#### 2. Create a list that includes the 3 possible gesture options of the game: 'rock', 'paper' or 'scissors'. Store the list in a variable called `gestures`."
   ]
  },
  {
   "cell_type": "code",
   "execution_count": 2,
   "metadata": {},
   "outputs": [],
   "source": [
    "gestures=['rock', 'paper','scissors']"
   ]
  },
  {
   "cell_type": "markdown",
   "metadata": {},
   "source": [
    "#### 3. Create a variable called `n_rounds` to store the maximum number of rounds to play in a game. \n",
    "Remember that the number of rounds must be odd: 1, 3, 5, ..."
   ]
  },
  {
   "cell_type": "code",
   "execution_count": 3,
   "metadata": {},
   "outputs": [],
   "source": [
    "n_rounds=0"
   ]
  },
  {
   "cell_type": "markdown",
   "metadata": {},
   "source": [
    "#### 4. Create a variable called `rounds_to_win` to store the number of rounds that a player must win to win the game.\n",
    "**Hint**: the value stored in `rounds_to_win` depends on the value of `n_rounds`. "
   ]
  },
  {
   "cell_type": "code",
   "execution_count": 4,
   "metadata": {},
   "outputs": [],
   "source": [
    "rounds_to_win=round(n_rounds/2)"
   ]
  },
  {
   "cell_type": "markdown",
   "metadata": {},
   "source": [
    "#### 5. Create two variables to store the number of rounds that the computer and the player have won. Call these variables `cpu_score` and `player_score`."
   ]
  },
  {
   "cell_type": "code",
   "execution_count": 5,
   "metadata": {},
   "outputs": [],
   "source": [
    "cpu_score=0\n",
    "player_score=0"
   ]
  },
  {
   "cell_type": "markdown",
   "metadata": {},
   "source": [
    "#### 6. Define a function that randomly returns one of the 3 gesture options.\n",
    "You will use this function to simulate the gesture choice of the computer. "
   ]
  },
  {
   "cell_type": "code",
   "execution_count": 6,
   "metadata": {
    "scrolled": true
   },
   "outputs": [
    {
     "data": {
      "text/plain": [
       "'scissors'"
      ]
     },
     "execution_count": 6,
     "metadata": {},
     "output_type": "execute_result"
    }
   ],
   "source": [
    "random.choice(gestures)"
   ]
  },
  {
   "cell_type": "markdown",
   "metadata": {},
   "source": [
    "#### 7. Define a function that asks the player which is the gesture he or she wants to show: 'rock', 'paper' or 'scissors'.\n",
    "The player should only be allowed to choose one of the 3 gesture options. If the player's choice is not rock, paper or scissors, keep asking until it is."
   ]
  },
  {
   "cell_type": "code",
   "execution_count": 7,
   "metadata": {},
   "outputs": [
    {
     "name": "stdout",
     "output_type": "stream",
     "text": [
      "Please, choose a option in the menú. Just write the number\n",
      "Choose one of the 3 options: 1-rock, 2-paper, 3-scissors2\n",
      "You choose paper\n"
     ]
    }
   ],
   "source": [
    "choice=0\n",
    "#def playerchoice(choice):\n",
    "while (choice>3 or choice<1):\n",
    "    print(\"Please, choose a option in the menú. Just write the number\")\n",
    "    choice=int(input(\"Choose one of the 3 options: 1-rock, 2-paper, 3-scissors\"))\n",
    "    if choice==1:\n",
    "        player=\"rock\"\n",
    "    elif choice==2:\n",
    "        player=\"paper\"\n",
    "    elif choice==3:\n",
    "        player=\"scissors\"\n",
    "    \n",
    "print(\"You choose\",player)\n",
    "    #return player\n"
   ]
  },
  {
   "cell_type": "markdown",
   "metadata": {},
   "source": [
    "#### 8. Define a function that checks who won a round. \n",
    "The function should return 0 if there is a tie, 1 if the computer wins and 2 if the player wins."
   ]
  },
  {
   "cell_type": "code",
   "execution_count": 8,
   "metadata": {},
   "outputs": [],
   "source": [
    "def winner(player,compu):\n",
    "    \n",
    "    if player==\"scissors\"and compu==\"paper\":\n",
    "        print(\"Player wins\")\n",
    "        return 2\n",
    "    elif player==\"paper\"and compu==\"rock\":\n",
    "        print(\"Player wins\")\n",
    "        return 2 \n",
    "    elif player==\"rock\"and compu==\"scissors\":\n",
    "        print(\"Player wins\")\n",
    "        return 2\n",
    "    elif player==compu:\n",
    "        print(\"Tie\")\n",
    "        return 0\n",
    "    \n",
    "    if compu==\"scissors\"and player==\"paper\":\n",
    "        print(\"Computer wins\")\n",
    "        return 1\n",
    "    elif compu==\"paper\"and player==\"rock\":\n",
    "        print(\"Computer wins\")\n",
    "        return 1 \n",
    "    elif compu==\"rock\"and player==\"scissors\":\n",
    "        print(\"Computer wins\")\n",
    "        return 1\n",
    "    elif compu==player:\n",
    "        print(\"Tie\")\n",
    "        return 0\n",
    "        "
   ]
  },
  {
   "cell_type": "markdown",
   "metadata": {},
   "source": [
    "#### 9. Define a function that prints the choice of the computer, the choice of the player and a message that announces who won the current round. \n",
    "You should also use this function to update the variables that count the number of rounds that the computer and the player have won. The score of the winner increases by one point. If there is a tie, the score does not increase."
   ]
  },
  {
   "cell_type": "code",
   "execution_count": 9,
   "metadata": {},
   "outputs": [
    {
     "name": "stdout",
     "output_type": "stream",
     "text": [
      "Please, choose a option in the menú. Just write the number\n",
      "Choose one of the 3 options: 1-rock, 2-paper, 3-scissors4\n",
      "Please, choose a option in the menú. Just write the number\n",
      "Choose one of the 3 options: 1-rock, 2-paper, 3-scissors1\n",
      "You choose rock\n",
      "Your enemy choose paper\n",
      "Computer wins\n"
     ]
    }
   ],
   "source": [
    "choice=0\n",
    "while (choice>3 or choice<1):\n",
    "    print(\"Please, choose a option in the menú. Just write the number\")\n",
    "    choice=int(input(\"Choose one of the 3 options: 1-rock, 2-paper, 3-scissors\"))\n",
    "    if choice==1:\n",
    "        player=\"rock\"\n",
    "    elif choice==2:\n",
    "        player=\"paper\"\n",
    "    elif choice==3:\n",
    "        player=\"scissors\"\n",
    "    \n",
    "print(\"You choose\",player)\n",
    "\n",
    "compu=random.choice(gestures)\n",
    "print(\"Your enemy choose\",compu)\n",
    "winner(player,compu)\n",
    "\n",
    "if winner ==2:\n",
    "    cpu_score=cpu_score\n",
    "    player_score=player_score+1\n",
    "elif winner==1:\n",
    "    cpu_score=cpu_score+1\n",
    "    player_score=player_score"
   ]
  },
  {
   "cell_type": "markdown",
   "metadata": {},
   "source": [
    "#### 10. Now it's time to code the execution of the game using the functions and variables you defined above. \n",
    "\n",
    "First, create a loop structure that repeats while no player reaches the minimum score necessary to win and the number of rounds is less than the maximum number of rounds to play in a game.  \n",
    "\n",
    "Inside the loop, use the functions and variables above to create the execution of a round: ask for the player's choice, generate the random choice of the computer, show the round results, update the scores, etc. "
   ]
  },
  {
   "cell_type": "code",
   "execution_count": 23,
   "metadata": {},
   "outputs": [
    {
     "name": "stdout",
     "output_type": "stream",
     "text": [
      "Please, choose a option in the menú. Just write the number\n",
      "Choose one of the 3 options: 1-rock, 2-paper, 3-scissors1\n",
      "You choose rock\n",
      "Your enemy choose rock\n",
      "Tie\n",
      "Round: 2  Score -You 0 -Your enemy 0\n",
      "You choose rock\n",
      "Your enemy choose paper\n",
      "Computer wins\n",
      "Round: 3  Score -You 0 -Your enemy 1\n",
      "You choose rock\n",
      "Your enemy choose scissors\n",
      "Player wins\n",
      "Round: 4  Score -You 1 -Your enemy 1\n",
      "You choose rock\n",
      "Your enemy choose paper\n",
      "Computer wins\n",
      "Round: 5  Score -You 1 -Your enemy 2\n",
      "You choose rock\n",
      "Your enemy choose rock\n",
      "Tie\n",
      "Round: 6  Score -You 1 -Your enemy 2\n",
      "You choose rock\n",
      "Your enemy choose paper\n",
      "Computer wins\n",
      "Round: 7  Score -You 1 -Your enemy 3\n",
      "You choose rock\n",
      "Your enemy choose scissors\n",
      "Player wins\n",
      "Round: 8  Score -You 2 -Your enemy 3\n",
      "You choose rock\n",
      "Your enemy choose rock\n",
      "Tie\n",
      "Round: 9  Score -You 2 -Your enemy 3\n",
      "You choose rock\n",
      "Your enemy choose paper\n",
      "Computer wins\n",
      "Round: 10  Score -You 2 -Your enemy 4\n",
      "You choose rock\n",
      "Your enemy choose rock\n",
      "Tie\n",
      "Round: 11  Score -You 2 -Your enemy 4\n",
      "You choose rock\n",
      "Your enemy choose paper\n",
      "Computer wins\n",
      "Round: 12  Score -You 2 -Your enemy 5\n",
      "You choose rock\n",
      "Your enemy choose rock\n",
      "Tie\n",
      "Round: 13  Score -You 2 -Your enemy 5\n",
      "You choose rock\n",
      "Your enemy choose paper\n",
      "Computer wins\n",
      "Round: 14  Score -You 2 -Your enemy 6\n",
      "You choose rock\n",
      "Your enemy choose rock\n",
      "Tie\n",
      "Round: 15  Score -You 2 -Your enemy 6\n",
      "You choose rock\n",
      "Your enemy choose paper\n",
      "Computer wins\n",
      "Round: 16  Score -You 2 -Your enemy 7\n",
      "You choose rock\n",
      "Your enemy choose paper\n",
      "Computer wins\n",
      "Round: 17  Score -You 2 -Your enemy 8\n",
      "You choose rock\n",
      "Your enemy choose rock\n",
      "Tie\n",
      "Round: 18  Score -You 2 -Your enemy 8\n",
      "You choose rock\n",
      "Your enemy choose paper\n",
      "Computer wins\n",
      "Round: 19  Score -You 2 -Your enemy 9\n",
      "You choose rock\n",
      "Your enemy choose paper\n",
      "Computer wins\n",
      "Round: 20  Score -You 2 -Your enemy 10\n",
      "You choose rock\n",
      "Your enemy choose scissors\n",
      "Player wins\n",
      "Round: 21  Score -You 3 -Your enemy 10\n",
      "You choose rock\n",
      "Your enemy choose paper\n",
      "Computer wins\n",
      "Round: 22  Score -You 3 -Your enemy 11\n",
      "You choose rock\n",
      "Your enemy choose paper\n",
      "Computer wins\n",
      "Round: 23  Score -You 3 -Your enemy 12\n",
      "You choose rock\n",
      "Your enemy choose scissors\n",
      "Player wins\n",
      "Round: 24  Score -You 4 -Your enemy 12\n",
      "You choose rock\n",
      "Your enemy choose paper\n",
      "Computer wins\n",
      "Round: 25  Score -You 4 -Your enemy 13\n"
     ]
    }
   ],
   "source": [
    "cpu_score=0\n",
    "player_score=0\n",
    "choice=0\n",
    "n_rounds=1\n",
    "rounds_to_win=round(n_rounds/2)\n",
    "\n",
    "while (cpu_score<=rounds_to_win and player_score<=rounds_to_win):\n",
    "    n_rounds=n_rounds+1\n",
    "    rounds_to_win=round(n_rounds/2)\n",
    "    \n",
    "    if choice>3 or choice<1:\n",
    "        print(\"Please, choose a option in the menú. Just write the number\")\n",
    "        choice=int(input(\"Choose one of the 3 options: 1-rock, 2-paper, 3-scissors\"))\n",
    "        if choice==1:\n",
    "            player=\"rock\"\n",
    "        elif choice==2:\n",
    "            player=\"paper\"\n",
    "        elif choice==3:\n",
    "            player=\"scissors\"\n",
    "    \n",
    "    print(\"You choose\",player)\n",
    "    compu=random.choice(gestures)\n",
    "    print(\"Your enemy choose\",compu)\n",
    "    \n",
    "    won=winner(player,compu)\n",
    "    \n",
    "    if won==2:\n",
    "        cpu_score=cpu_score\n",
    "        player_score=player_score+1\n",
    "    elif won==1:\n",
    "        cpu_score=cpu_score+1\n",
    "        player_score=player_score\n",
    "    \n",
    "    print(\"Round:\",n_rounds,\" Score -You\",player_score,\"-Your enemy\",cpu_score)"
   ]
  },
  {
   "cell_type": "markdown",
   "metadata": {},
   "source": [
    "#### 11. Print the winner of the game based on who won more rounds.\n",
    "Remember that the game might be tied. "
   ]
  },
  {
   "cell_type": "code",
   "execution_count": 24,
   "metadata": {},
   "outputs": [
    {
     "name": "stdout",
     "output_type": "stream",
     "text": [
      "You loss\n"
     ]
    }
   ],
   "source": [
    "if  player_score > cpu_score:\n",
    "    print(\"You win\")\n",
    "else:\n",
    "    print(\"You loss\")"
   ]
  },
  {
   "cell_type": "markdown",
   "metadata": {},
   "source": [
    "# Bonus: Rock, Paper, Scissors, Lizard & Spock\n",
    "![](images/rpsls.jpg)\n",
    "\n",
    "In this challenge, you need to improve the previous game by adding two new options. To know more about the rules of the improved version of rock, paper, scissors, check this [link](http://www.samkass.com/theories/RPSSL.html). \n",
    "\n",
    "In addition, you will also need to improve how the game interacts with the player: the number of rounds to play, which must be an odd number, will be requested to the user until a valid number is entered. Define a new function to make that request.\n",
    "\n",
    "**Hint**: Try to reuse the code that you already coded in the previous challenge. If your code is efficient, this bonus will only consist of simple modifications to the original game."
   ]
  },
  {
   "cell_type": "code",
   "execution_count": null,
   "metadata": {},
   "outputs": [],
   "source": []
  }
 ],
 "metadata": {
  "kernelspec": {
   "display_name": "Python 3",
   "language": "python",
   "name": "python3"
  },
  "language_info": {
   "codemirror_mode": {
    "name": "ipython",
    "version": 3
   },
   "file_extension": ".py",
   "mimetype": "text/x-python",
   "name": "python",
   "nbconvert_exporter": "python",
   "pygments_lexer": "ipython3",
   "version": "3.7.6"
  }
 },
 "nbformat": 4,
 "nbformat_minor": 2
}
